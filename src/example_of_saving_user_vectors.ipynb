{
 "cells": [
  {
   "cell_type": "code",
   "execution_count": 1,
   "metadata": {},
   "outputs": [],
   "source": [
    "import pandas as pd\n",
    "from function import save_dict_to_csv, load_csv_to_dict, save_ids_vecs_to_csv, load_csv_to_ids_vectors\n",
    "import numpy as np\n",
    "import random"
   ]
  },
  {
   "cell_type": "markdown",
   "metadata": {},
   "source": [
    "## 0. Sample Data"
   ]
  },
  {
   "cell_type": "markdown",
   "metadata": {},
   "source": [
    "### 0-1. Dictionary"
   ]
  },
  {
   "cell_type": "code",
   "execution_count": 2,
   "metadata": {},
   "outputs": [],
   "source": [
    "user_vec_dic = {'abc':np.random.random(100),\n",
    "            'ade':np.random.random(100),\n",
    "            '123':np.random.random(100),\n",
    "            '234':np.random.random(100),\n",
    "            'qqq':np.random.random(100),}\n",
    "\n",
    "user_vec_dic_np = {'abc':np.random.random(100).tolist(),\n",
    "                   'ade':np.random.random(100).tolist(),\n",
    "                   '123':np.random.random(100).tolist(),\n",
    "                   '234':np.random.random(100).tolist(),\n",
    "                   'qqq':np.random.random(100).tolist(),}"
   ]
  },
  {
   "cell_type": "markdown",
   "metadata": {},
   "source": [
    "### 0-2. 兩個 np.array"
   ]
  },
  {
   "cell_type": "markdown",
   "metadata": {},
   "source": [
    "#### EXAMPLE：n 個使用者，維度 m"
   ]
  },
  {
   "cell_type": "code",
   "execution_count": 3,
   "metadata": {},
   "outputs": [],
   "source": [
    "import random\n",
    "n = 5\n",
    "m = 10\n",
    "ids = np.asarray(random.sample(range(n),n))\n",
    "vectors = np.random.random((n,m))"
   ]
  },
  {
   "cell_type": "code",
   "execution_count": 4,
   "metadata": {},
   "outputs": [
    {
     "data": {
      "text/plain": [
       "array([4, 2, 0, 3, 1])"
      ]
     },
     "execution_count": 4,
     "metadata": {},
     "output_type": "execute_result"
    }
   ],
   "source": [
    "ids"
   ]
  },
  {
   "cell_type": "code",
   "execution_count": 5,
   "metadata": {},
   "outputs": [
    {
     "data": {
      "text/plain": [
       "array([[0.52482969, 0.43027585, 0.27742977, 0.89387868, 0.4224252 ,\n",
       "        0.53472476, 0.69598876, 0.41616535, 0.45948643, 0.36538859],\n",
       "       [0.2883005 , 0.54443483, 0.13194302, 0.83978137, 0.62177696,\n",
       "        0.90209411, 0.56348438, 0.42950107, 0.62218309, 0.63306109],\n",
       "       [0.00913484, 0.38830154, 0.49898255, 0.65728013, 0.3630855 ,\n",
       "        0.49292171, 0.81051462, 0.54866493, 0.97875186, 0.78774219],\n",
       "       [0.17616128, 0.54641368, 0.3973354 , 0.27114562, 0.92190067,\n",
       "        0.11759823, 0.95093832, 0.6441864 , 0.56972403, 0.819614  ],\n",
       "       [0.9322047 , 0.19982769, 0.49298639, 0.49989276, 0.84056794,\n",
       "        0.21306549, 0.80515129, 0.11082446, 0.61234984, 0.15233126]])"
      ]
     },
     "execution_count": 5,
     "metadata": {},
     "output_type": "execute_result"
    }
   ],
   "source": [
    "vectors"
   ]
  },
  {
   "cell_type": "markdown",
   "metadata": {},
   "source": [
    "## 1. 儲存成 csv"
   ]
  },
  {
   "cell_type": "markdown",
   "metadata": {},
   "source": [
    "### 1-1. 將 dictionary 存成 csv"
   ]
  },
  {
   "cell_type": "code",
   "execution_count": 6,
   "metadata": {},
   "outputs": [],
   "source": [
    "path_py = 'test_py_list.csv'\n",
    "path_np = 'test_np_list.csv'\n",
    "\n",
    "save_dict_to_csv(user_vec_dic,path_py)\n",
    "save_dict_to_csv(user_vec_dic_np,path_np)"
   ]
  },
  {
   "cell_type": "markdown",
   "metadata": {},
   "source": [
    "### 1-2. 將兩個 numpy array 存成 csv"
   ]
  },
  {
   "cell_type": "code",
   "execution_count": 7,
   "metadata": {},
   "outputs": [],
   "source": [
    "path_two_np_array = 'test_2_np.csv'\n",
    "save_ids_vecs_to_csv(ids,vectors,path_two_np_array)"
   ]
  },
  {
   "cell_type": "markdown",
   "metadata": {},
   "source": [
    "## 2. 讀取 csv"
   ]
  },
  {
   "cell_type": "markdown",
   "metadata": {},
   "source": [
    "### 2-1. 讀成 dictionary"
   ]
  },
  {
   "cell_type": "code",
   "execution_count": 8,
   "metadata": {},
   "outputs": [
    {
     "data": {
      "text/plain": [
       "{'4': array([0.52482969, 0.43027585, 0.27742977, 0.89387868, 0.4224252 ,\n",
       "        0.53472476, 0.69598876, 0.41616535, 0.45948643, 0.36538859]),\n",
       " '2': array([0.2883005 , 0.54443483, 0.13194302, 0.83978137, 0.62177696,\n",
       "        0.90209411, 0.56348438, 0.42950107, 0.62218309, 0.63306109]),\n",
       " '0': array([0.00913484, 0.38830154, 0.49898255, 0.65728013, 0.3630855 ,\n",
       "        0.49292171, 0.81051462, 0.54866493, 0.97875186, 0.78774219]),\n",
       " '3': array([0.17616128, 0.54641368, 0.3973354 , 0.27114562, 0.92190067,\n",
       "        0.11759823, 0.95093832, 0.6441864 , 0.56972403, 0.819614  ]),\n",
       " '1': array([0.9322047 , 0.19982769, 0.49298639, 0.49989276, 0.84056794,\n",
       "        0.21306549, 0.80515129, 0.11082446, 0.61234984, 0.15233126])}"
      ]
     },
     "execution_count": 8,
     "metadata": {},
     "output_type": "execute_result"
    }
   ],
   "source": [
    "load_csv_to_dict(path_two_np_array)"
   ]
  },
  {
   "cell_type": "markdown",
   "metadata": {},
   "source": [
    "### 2-2. 從 csv 讀成兩個 numpy array"
   ]
  },
  {
   "cell_type": "code",
   "execution_count": 9,
   "metadata": {},
   "outputs": [],
   "source": [
    "ids, vectors = load_csv_to_ids_vectors(path_two_np_array)"
   ]
  },
  {
   "cell_type": "code",
   "execution_count": 10,
   "metadata": {},
   "outputs": [
    {
     "data": {
      "text/plain": [
       "array(['4', '2', '0', '3', '1'], dtype=object)"
      ]
     },
     "execution_count": 10,
     "metadata": {},
     "output_type": "execute_result"
    }
   ],
   "source": [
    "np.asarray(ids)"
   ]
  },
  {
   "cell_type": "code",
   "execution_count": 11,
   "metadata": {},
   "outputs": [
    {
     "data": {
      "text/plain": [
       "dtype('float64')"
      ]
     },
     "execution_count": 11,
     "metadata": {},
     "output_type": "execute_result"
    }
   ],
   "source": [
    "vectors.dtype"
   ]
  },
  {
   "cell_type": "markdown",
   "metadata": {},
   "source": [
    "## 3. CSV 的樣式"
   ]
  },
  {
   "cell_type": "markdown",
   "metadata": {},
   "source": [
    "### python list vector version"
   ]
  },
  {
   "cell_type": "code",
   "execution_count": 12,
   "metadata": {},
   "outputs": [
    {
     "data": {
      "text/html": [
       "<div>\n",
       "<style scoped>\n",
       "    .dataframe tbody tr th:only-of-type {\n",
       "        vertical-align: middle;\n",
       "    }\n",
       "\n",
       "    .dataframe tbody tr th {\n",
       "        vertical-align: top;\n",
       "    }\n",
       "\n",
       "    .dataframe thead th {\n",
       "        text-align: right;\n",
       "    }\n",
       "</style>\n",
       "<table border=\"1\" class=\"dataframe\">\n",
       "  <thead>\n",
       "    <tr style=\"text-align: right;\">\n",
       "      <th></th>\n",
       "      <th>0</th>\n",
       "      <th>1</th>\n",
       "      <th>2</th>\n",
       "      <th>3</th>\n",
       "      <th>4</th>\n",
       "      <th>5</th>\n",
       "      <th>6</th>\n",
       "      <th>7</th>\n",
       "      <th>8</th>\n",
       "      <th>9</th>\n",
       "      <th>...</th>\n",
       "      <th>91</th>\n",
       "      <th>92</th>\n",
       "      <th>93</th>\n",
       "      <th>94</th>\n",
       "      <th>95</th>\n",
       "      <th>96</th>\n",
       "      <th>97</th>\n",
       "      <th>98</th>\n",
       "      <th>99</th>\n",
       "      <th>100</th>\n",
       "    </tr>\n",
       "  </thead>\n",
       "  <tbody>\n",
       "    <tr>\n",
       "      <th>0</th>\n",
       "      <td>abc</td>\n",
       "      <td>0.716499</td>\n",
       "      <td>0.807720</td>\n",
       "      <td>0.627787</td>\n",
       "      <td>0.877580</td>\n",
       "      <td>0.384484</td>\n",
       "      <td>0.359654</td>\n",
       "      <td>0.986248</td>\n",
       "      <td>0.909313</td>\n",
       "      <td>0.892789</td>\n",
       "      <td>...</td>\n",
       "      <td>0.808053</td>\n",
       "      <td>0.498251</td>\n",
       "      <td>0.685151</td>\n",
       "      <td>0.960401</td>\n",
       "      <td>0.883355</td>\n",
       "      <td>0.598105</td>\n",
       "      <td>0.839332</td>\n",
       "      <td>0.724012</td>\n",
       "      <td>0.856174</td>\n",
       "      <td>0.621581</td>\n",
       "    </tr>\n",
       "    <tr>\n",
       "      <th>1</th>\n",
       "      <td>ade</td>\n",
       "      <td>0.049260</td>\n",
       "      <td>0.384770</td>\n",
       "      <td>0.610364</td>\n",
       "      <td>0.455525</td>\n",
       "      <td>0.791035</td>\n",
       "      <td>0.812606</td>\n",
       "      <td>0.717947</td>\n",
       "      <td>0.300670</td>\n",
       "      <td>0.423918</td>\n",
       "      <td>...</td>\n",
       "      <td>0.248906</td>\n",
       "      <td>0.521233</td>\n",
       "      <td>0.250853</td>\n",
       "      <td>0.519341</td>\n",
       "      <td>0.168267</td>\n",
       "      <td>0.691886</td>\n",
       "      <td>0.381368</td>\n",
       "      <td>0.534104</td>\n",
       "      <td>0.299947</td>\n",
       "      <td>0.256244</td>\n",
       "    </tr>\n",
       "    <tr>\n",
       "      <th>2</th>\n",
       "      <td>123</td>\n",
       "      <td>0.094454</td>\n",
       "      <td>0.196906</td>\n",
       "      <td>0.614124</td>\n",
       "      <td>0.550266</td>\n",
       "      <td>0.592759</td>\n",
       "      <td>0.873053</td>\n",
       "      <td>0.328561</td>\n",
       "      <td>0.075981</td>\n",
       "      <td>0.657815</td>\n",
       "      <td>...</td>\n",
       "      <td>0.836581</td>\n",
       "      <td>0.450387</td>\n",
       "      <td>0.767146</td>\n",
       "      <td>0.579547</td>\n",
       "      <td>0.172427</td>\n",
       "      <td>0.971194</td>\n",
       "      <td>0.025001</td>\n",
       "      <td>0.840713</td>\n",
       "      <td>0.142057</td>\n",
       "      <td>0.462201</td>\n",
       "    </tr>\n",
       "  </tbody>\n",
       "</table>\n",
       "<p>3 rows × 101 columns</p>\n",
       "</div>"
      ],
      "text/plain": [
       "   0         1         2         3         4         5         6         7    \\\n",
       "0  abc  0.716499  0.807720  0.627787  0.877580  0.384484  0.359654  0.986248   \n",
       "1  ade  0.049260  0.384770  0.610364  0.455525  0.791035  0.812606  0.717947   \n",
       "2  123  0.094454  0.196906  0.614124  0.550266  0.592759  0.873053  0.328561   \n",
       "\n",
       "        8         9    ...       91        92        93        94        95   \\\n",
       "0  0.909313  0.892789  ...  0.808053  0.498251  0.685151  0.960401  0.883355   \n",
       "1  0.300670  0.423918  ...  0.248906  0.521233  0.250853  0.519341  0.168267   \n",
       "2  0.075981  0.657815  ...  0.836581  0.450387  0.767146  0.579547  0.172427   \n",
       "\n",
       "        96        97        98        99        100  \n",
       "0  0.598105  0.839332  0.724012  0.856174  0.621581  \n",
       "1  0.691886  0.381368  0.534104  0.299947  0.256244  \n",
       "2  0.971194  0.025001  0.840713  0.142057  0.462201  \n",
       "\n",
       "[3 rows x 101 columns]"
      ]
     },
     "execution_count": 12,
     "metadata": {},
     "output_type": "execute_result"
    }
   ],
   "source": [
    "pd.read_csv(path_py, header=None).head(3)"
   ]
  },
  {
   "cell_type": "code",
   "execution_count": 13,
   "metadata": {},
   "outputs": [
    {
     "data": {
      "text/html": [
       "<div>\n",
       "<style scoped>\n",
       "    .dataframe tbody tr th:only-of-type {\n",
       "        vertical-align: middle;\n",
       "    }\n",
       "\n",
       "    .dataframe tbody tr th {\n",
       "        vertical-align: top;\n",
       "    }\n",
       "\n",
       "    .dataframe thead th {\n",
       "        text-align: right;\n",
       "    }\n",
       "</style>\n",
       "<table border=\"1\" class=\"dataframe\">\n",
       "  <thead>\n",
       "    <tr style=\"text-align: right;\">\n",
       "      <th></th>\n",
       "      <th>0</th>\n",
       "      <th>1</th>\n",
       "      <th>2</th>\n",
       "      <th>3</th>\n",
       "      <th>4</th>\n",
       "      <th>5</th>\n",
       "      <th>6</th>\n",
       "      <th>7</th>\n",
       "      <th>8</th>\n",
       "      <th>9</th>\n",
       "      <th>...</th>\n",
       "      <th>91</th>\n",
       "      <th>92</th>\n",
       "      <th>93</th>\n",
       "      <th>94</th>\n",
       "      <th>95</th>\n",
       "      <th>96</th>\n",
       "      <th>97</th>\n",
       "      <th>98</th>\n",
       "      <th>99</th>\n",
       "      <th>100</th>\n",
       "    </tr>\n",
       "  </thead>\n",
       "  <tbody>\n",
       "    <tr>\n",
       "      <th>0</th>\n",
       "      <td>abc</td>\n",
       "      <td>0.704404</td>\n",
       "      <td>0.378757</td>\n",
       "      <td>0.657300</td>\n",
       "      <td>0.985190</td>\n",
       "      <td>0.199247</td>\n",
       "      <td>0.000661</td>\n",
       "      <td>0.345455</td>\n",
       "      <td>0.304337</td>\n",
       "      <td>0.191889</td>\n",
       "      <td>...</td>\n",
       "      <td>0.808542</td>\n",
       "      <td>0.694551</td>\n",
       "      <td>0.719061</td>\n",
       "      <td>0.837003</td>\n",
       "      <td>0.721342</td>\n",
       "      <td>0.825319</td>\n",
       "      <td>0.669348</td>\n",
       "      <td>0.731836</td>\n",
       "      <td>0.418378</td>\n",
       "      <td>0.086349</td>\n",
       "    </tr>\n",
       "    <tr>\n",
       "      <th>1</th>\n",
       "      <td>ade</td>\n",
       "      <td>0.567305</td>\n",
       "      <td>0.704333</td>\n",
       "      <td>0.223069</td>\n",
       "      <td>0.219235</td>\n",
       "      <td>0.209464</td>\n",
       "      <td>0.251086</td>\n",
       "      <td>0.833688</td>\n",
       "      <td>0.659023</td>\n",
       "      <td>0.258063</td>\n",
       "      <td>...</td>\n",
       "      <td>0.127376</td>\n",
       "      <td>0.057208</td>\n",
       "      <td>0.549979</td>\n",
       "      <td>0.610602</td>\n",
       "      <td>0.526949</td>\n",
       "      <td>0.381767</td>\n",
       "      <td>0.747379</td>\n",
       "      <td>0.947198</td>\n",
       "      <td>0.132541</td>\n",
       "      <td>0.004880</td>\n",
       "    </tr>\n",
       "    <tr>\n",
       "      <th>2</th>\n",
       "      <td>123</td>\n",
       "      <td>0.309823</td>\n",
       "      <td>0.466687</td>\n",
       "      <td>0.813106</td>\n",
       "      <td>0.877895</td>\n",
       "      <td>0.563658</td>\n",
       "      <td>0.321000</td>\n",
       "      <td>0.196384</td>\n",
       "      <td>0.837169</td>\n",
       "      <td>0.513974</td>\n",
       "      <td>...</td>\n",
       "      <td>0.419562</td>\n",
       "      <td>0.532986</td>\n",
       "      <td>0.220485</td>\n",
       "      <td>0.312956</td>\n",
       "      <td>0.658480</td>\n",
       "      <td>0.895314</td>\n",
       "      <td>0.228338</td>\n",
       "      <td>0.261398</td>\n",
       "      <td>0.889704</td>\n",
       "      <td>0.591113</td>\n",
       "    </tr>\n",
       "  </tbody>\n",
       "</table>\n",
       "<p>3 rows × 101 columns</p>\n",
       "</div>"
      ],
      "text/plain": [
       "   0         1         2         3         4         5         6         7    \\\n",
       "0  abc  0.704404  0.378757  0.657300  0.985190  0.199247  0.000661  0.345455   \n",
       "1  ade  0.567305  0.704333  0.223069  0.219235  0.209464  0.251086  0.833688   \n",
       "2  123  0.309823  0.466687  0.813106  0.877895  0.563658  0.321000  0.196384   \n",
       "\n",
       "        8         9    ...       91        92        93        94        95   \\\n",
       "0  0.304337  0.191889  ...  0.808542  0.694551  0.719061  0.837003  0.721342   \n",
       "1  0.659023  0.258063  ...  0.127376  0.057208  0.549979  0.610602  0.526949   \n",
       "2  0.837169  0.513974  ...  0.419562  0.532986  0.220485  0.312956  0.658480   \n",
       "\n",
       "        96        97        98        99        100  \n",
       "0  0.825319  0.669348  0.731836  0.418378  0.086349  \n",
       "1  0.381767  0.747379  0.947198  0.132541  0.004880  \n",
       "2  0.895314  0.228338  0.261398  0.889704  0.591113  \n",
       "\n",
       "[3 rows x 101 columns]"
      ]
     },
     "execution_count": 13,
     "metadata": {},
     "output_type": "execute_result"
    }
   ],
   "source": [
    "pd.read_csv(path_np, header=None).head(3)"
   ]
  },
  {
   "cell_type": "code",
   "execution_count": 14,
   "metadata": {},
   "outputs": [
    {
     "data": {
      "text/html": [
       "<div>\n",
       "<style scoped>\n",
       "    .dataframe tbody tr th:only-of-type {\n",
       "        vertical-align: middle;\n",
       "    }\n",
       "\n",
       "    .dataframe tbody tr th {\n",
       "        vertical-align: top;\n",
       "    }\n",
       "\n",
       "    .dataframe thead th {\n",
       "        text-align: right;\n",
       "    }\n",
       "</style>\n",
       "<table border=\"1\" class=\"dataframe\">\n",
       "  <thead>\n",
       "    <tr style=\"text-align: right;\">\n",
       "      <th></th>\n",
       "      <th>0</th>\n",
       "      <th>1</th>\n",
       "      <th>2</th>\n",
       "      <th>3</th>\n",
       "      <th>4</th>\n",
       "      <th>5</th>\n",
       "      <th>6</th>\n",
       "      <th>7</th>\n",
       "      <th>8</th>\n",
       "      <th>9</th>\n",
       "      <th>10</th>\n",
       "    </tr>\n",
       "  </thead>\n",
       "  <tbody>\n",
       "    <tr>\n",
       "      <th>0</th>\n",
       "      <td>4</td>\n",
       "      <td>0.524830</td>\n",
       "      <td>0.430276</td>\n",
       "      <td>0.277430</td>\n",
       "      <td>0.893879</td>\n",
       "      <td>0.422425</td>\n",
       "      <td>0.534725</td>\n",
       "      <td>0.695989</td>\n",
       "      <td>0.416165</td>\n",
       "      <td>0.459486</td>\n",
       "      <td>0.365389</td>\n",
       "    </tr>\n",
       "    <tr>\n",
       "      <th>1</th>\n",
       "      <td>2</td>\n",
       "      <td>0.288300</td>\n",
       "      <td>0.544435</td>\n",
       "      <td>0.131943</td>\n",
       "      <td>0.839781</td>\n",
       "      <td>0.621777</td>\n",
       "      <td>0.902094</td>\n",
       "      <td>0.563484</td>\n",
       "      <td>0.429501</td>\n",
       "      <td>0.622183</td>\n",
       "      <td>0.633061</td>\n",
       "    </tr>\n",
       "    <tr>\n",
       "      <th>2</th>\n",
       "      <td>0</td>\n",
       "      <td>0.009135</td>\n",
       "      <td>0.388302</td>\n",
       "      <td>0.498983</td>\n",
       "      <td>0.657280</td>\n",
       "      <td>0.363085</td>\n",
       "      <td>0.492922</td>\n",
       "      <td>0.810515</td>\n",
       "      <td>0.548665</td>\n",
       "      <td>0.978752</td>\n",
       "      <td>0.787742</td>\n",
       "    </tr>\n",
       "  </tbody>\n",
       "</table>\n",
       "</div>"
      ],
      "text/plain": [
       "   0         1         2         3         4         5         6         7   \\\n",
       "0   4  0.524830  0.430276  0.277430  0.893879  0.422425  0.534725  0.695989   \n",
       "1   2  0.288300  0.544435  0.131943  0.839781  0.621777  0.902094  0.563484   \n",
       "2   0  0.009135  0.388302  0.498983  0.657280  0.363085  0.492922  0.810515   \n",
       "\n",
       "         8         9         10  \n",
       "0  0.416165  0.459486  0.365389  \n",
       "1  0.429501  0.622183  0.633061  \n",
       "2  0.548665  0.978752  0.787742  "
      ]
     },
     "execution_count": 14,
     "metadata": {},
     "output_type": "execute_result"
    }
   ],
   "source": [
    "pd.read_csv(path_two_np_array, header=None).head(3)"
   ]
  }
 ],
 "metadata": {
  "kernelspec": {
   "display_name": "Python 3",
   "language": "python",
   "name": "python3"
  },
  "language_info": {
   "codemirror_mode": {
    "name": "ipython",
    "version": 3
   },
   "file_extension": ".py",
   "mimetype": "text/x-python",
   "name": "python",
   "nbconvert_exporter": "python",
   "pygments_lexer": "ipython3",
   "version": "3.6.7"
  }
 },
 "nbformat": 4,
 "nbformat_minor": 2
}
