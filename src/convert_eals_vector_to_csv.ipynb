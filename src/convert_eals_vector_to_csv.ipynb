{
 "cells": [
  {
   "cell_type": "code",
   "execution_count": 14,
   "metadata": {},
   "outputs": [],
   "source": [
    "import pandas as pd\n",
    "import os\n",
    "from function import save_dict_to_csv, load_csv_to_dict,save_ids_vecs_to_csv\n",
    "import numpy as np"
   ]
  },
  {
   "cell_type": "code",
   "execution_count": 15,
   "metadata": {},
   "outputs": [],
   "source": [
    "data_dir = 'data/0524'\n",
    "eals_dir = os.path.join(data_dir,'eals')\n",
    "bpr_dir = os.path.join(data_dir,'bpr')"
   ]
  },
  {
   "cell_type": "code",
   "execution_count": 16,
   "metadata": {},
   "outputs": [
    {
     "data": {
      "text/plain": [
       "['yelp_user_vec.txt',\n",
       " '.DS_Store',\n",
       " 'movielens_item_labels.txt',\n",
       " 'yelp_item_vec.txt',\n",
       " 'yelp_user_labels.txt',\n",
       " 'yelp_item_labels.txt',\n",
       " 'movielens_user_vec.txt',\n",
       " 'movielens_user_labels.txt',\n",
       " 'movielens_item_vec.txt']"
      ]
     },
     "execution_count": 16,
     "metadata": {},
     "output_type": "execute_result"
    }
   ],
   "source": [
    "os.listdir(eals_dir)"
   ]
  },
  {
   "cell_type": "code",
   "execution_count": 17,
   "metadata": {},
   "outputs": [],
   "source": [
    "yelp_user_vec   = np.loadtxt(os.path.join(eals_dir,'yelp_user_vec.txt'))\n",
    "yelp_user_label = np.loadtxt(os.path.join(eals_dir,'yelp_user_labels.txt'))\n",
    "yelp_item_vec   = np.loadtxt(os.path.join(eals_dir,'yelp_item_vec.txt'))\n",
    "yelp_item_label = np.loadtxt(os.path.join(eals_dir,'yelp_item_labels.txt'))\n",
    "movielens_user_vec   = np.loadtxt(os.path.join(eals_dir,'movielens_user_vec.txt'))\n",
    "movielens_user_label = np.loadtxt(os.path.join(eals_dir,'movielens_user_labels.txt'))\n",
    "movielens_item_vec   = np.loadtxt(os.path.join(eals_dir,'movielens_item_vec.txt'))\n",
    "movielens_item_label = np.loadtxt(os.path.join(eals_dir,'movielens_item_labels.txt'))"
   ]
  },
  {
   "cell_type": "code",
   "execution_count": 19,
   "metadata": {},
   "outputs": [],
   "source": [
    "os.chdir(eals_dir)\n",
    "yelp_user_dict_path = 'eals_yelp_user_dict.csv'\n",
    "yelp_item_dict_path = 'eals_yelp_item_dict.csv'\n",
    "movielens_user_dict_path = 'eals_movielens_user_dict.csv'\n",
    "movielens_item_dict_path = 'eals_movielens_item_dict.csv'\n",
    "save_ids_vecs_to_csv(yelp_user_label.astype(int),yelp_user_vec,yelp_user_dict_path)\n",
    "save_ids_vecs_to_csv(yelp_item_label.astype(int),yelp_item_vec,yelp_item_dict_path)\n",
    "save_ids_vecs_to_csv(movielens_user_label.astype(int),movielens_user_vec,movielens_user_dict_path)\n",
    "save_ids_vecs_to_csv(movielens_item_label.astype(int),movielens_item_vec,movielens_item_dict_path)"
   ]
  },
  {
   "cell_type": "code",
   "execution_count": null,
   "metadata": {},
   "outputs": [],
   "source": []
  }
 ],
 "metadata": {
  "kernelspec": {
   "display_name": "Python 3",
   "language": "python",
   "name": "python3"
  },
  "language_info": {
   "codemirror_mode": {
    "name": "ipython",
    "version": 3
   },
   "file_extension": ".py",
   "mimetype": "text/x-python",
   "name": "python",
   "nbconvert_exporter": "python",
   "pygments_lexer": "ipython3",
   "version": "3.6.7"
  }
 },
 "nbformat": 4,
 "nbformat_minor": 2
}
